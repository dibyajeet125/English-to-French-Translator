{
  "nbformat": 4,
  "nbformat_minor": 0,
  "metadata": {
    "colab": {
      "provenance": [],
      "collapsed_sections": [
        "L2pukCDIb7yT"
      ]
    },
    "kernelspec": {
      "name": "python3",
      "display_name": "Python 3"
    },
    "accelerator": "GPU"
  },
  "cells": [
    {
      "cell_type": "markdown",
      "metadata": {
        "id": "L2pukCDIb7yT"
      },
      "source": [
        "# <center><u> <h1>English French-Translator</h1></u></center>\n",
        "\n",
        "Savez-vous comment créer une application de traduction de langue?<br>\n",
        "Did you understand the above sentence?<br>\n",
        "Well after googling it, I found its meaning as:<br>\n",
        "Do you know how to create a language translator app?<br>\n",
        "\n",
        "We all know about Google Translate which allows us to convert from one language to another and it’s very useful for learning and understanding new languages.\n",
        "<br>\n",
        "<br>\n",
        "\n",
        "\n",
        "![](https://daleonai.com/images/2019-11-05-improving-machine-translation-with-the-google-translation-api-advanced/1.png)\n",
        "\n",
        "\n",
        "In this project we aim to convert English phrases to French using RNN on Deep Learning Neural Network"
      ]
    },
    {
      "cell_type": "markdown",
      "metadata": {
        "id": "yva_P1dHb6aH"
      },
      "source": [
        "#Introduction\n",
        "In this notebook, you will build a deep neural network that functions as part of an end-to-end machine translation pipeline. Your completed pipeline will accept English text as input and return the French translation.\n",
        "\n",
        "Preprocess - You'll convert text to sequence of integers.\n",
        "Models Create models which accepts a sequence of integers as input and returns a probability distribution over possible translations. After learning about the basic types of neural networks that are often used for machine translation, you will engage in your own investigations, to design your own model!\n",
        "Prediction Run the model on English text.\n",
        "\n"
      ]
    },
    {
      "cell_type": "markdown",
      "source": [
        "Now let's start by importing necessary libraries.\n",
        "- Importing numpy for working with arrays\n",
        "-It then defines a Tokenizer object that will be used to split text into individual words using tensorflow tokenizer.\n",
        "Refer:https://www.tensorflow.org/api_docs/python/tf/keras/preprocessing/text/Tokenizer\n",
        "- pad_sequences is used to ensure that all sequences in a list have the same length.\n",
        "Refer:https://www.tensorflow.org/api_docs/python/tf/keras/preprocessing/sequence/pad_sequences\n",
        "-Keras model represents the actual neural network model.\n",
        "-the Sequential model is a linear stack of layers.\n",
        "-Importing GRU,Input,Dense,TimeDistributed,Activation,RepeatVector,Bidirectional,Dropout,LSTM,Embedding from tensorflow layers.\n",
        "Refer:https://www.tensorflow.org/api_docs/python/tf/keras/layers\n"
      ],
      "metadata": {
        "id": "0mRQ1YMcdhMT"
      }
    },
    {
      "cell_type": "code",
      "metadata": {
        "id": "1wmao4O0cnLS"
      },
      "source": [
        "#Now import above mentioned libraries\n",
        "import numpy as np\n",
        "from tensorflow.keras.preprocessing.text import Tokenizer\n",
        "from tensorflow.keras.preprocessing.sequence import pad_sequences\n",
        "from tensorflow.keras.models import Model, Sequential\n",
        "from tensorflow.keras.layers import GRU, Input, Dense, TimeDistributed, Activation, RepeatVector, Bidirectional, Dropout, LSTM, Embedding\n",
        "from tensorflow.keras.optimizers import Adam\n",
        "from tensorflow.keras.losses import sparse_categorical_crossentropy\n",
        "import tensorflow as tf"
      ],
      "execution_count": 1,
      "outputs": []
    },
    {
      "cell_type": "markdown",
      "metadata": {
        "id": "Aziw3H_Wcyll"
      },
      "source": [
        "#Load Data\n",
        "The data is located in data/small_vocab_en and data/small_vocab_fr. The small_vocab_en file contains English sentences with their French translations in the small_vocab_fr file. Load the English and French data from these files from running the cell below."
      ]
    },
    {
      "cell_type": "code",
      "metadata": {
        "id": "cboaEhaZcvm3"
      },
      "source": [
        "#load data here\n",
        "#english data\n",
        "english_data = \"/content/small_vocab_en.txt\"\n",
        "#french data\n",
        "french_dta = \"/content/small_vocab_fr.txt\""
      ],
      "execution_count": 2,
      "outputs": []
    },
    {
      "cell_type": "markdown",
      "metadata": {
        "id": "qnOhjwXI1VYO"
      },
      "source": [
        "- The OS module in Python provides functions for interacting with the operating system\n",
        "- The code loads the data from a file called input_file. The code then splits the string of text into an array using split(). <br>\n",
        "Then, it uses list comprehension to create a list with each line in the array as its own element."
      ]
    },
    {
      "cell_type": "code",
      "metadata": {
        "id": "7ozqkItv1Pd6"
      },
      "source": [
        "#import os\n",
        "import os\n",
        "#define a function with one parameter path\n",
        "def load_data(path):\n",
        "  #join the path with join keyword\n",
        "  input_file = os.path.join(path)\n",
        "  #open file and read  as f\n",
        "  with open(input_file, \"r\") as f:\n",
        "    #read file\n",
        "    data = f.read()\n",
        "  #return with data split(\"\\n\")\n",
        "  return data.split(\"\\n\")"
      ],
      "execution_count": 3,
      "outputs": []
    },
    {
      "cell_type": "markdown",
      "source": [
        "Now loading all english and french data into variables."
      ],
      "metadata": {
        "id": "kiwjeZzVCMo8"
      }
    },
    {
      "cell_type": "code",
      "metadata": {
        "id": "crFQWCx2eLsv"
      },
      "source": [
        "#Now loading english data\n",
        "english_sentences = load_data(english_data)\n",
        "#Now loading french data\n",
        "french_sentences = load_data(french_dta)"
      ],
      "execution_count": 4,
      "outputs": []
    },
    {
      "cell_type": "markdown",
      "metadata": {
        "id": "hw60fkIXgCB4"
      },
      "source": [
        "#Analysis of Dataset\n",
        "Let us look at a few examples in the dataset of both language"
      ]
    },
    {
      "cell_type": "code",
      "metadata": {
        "id": "9V_5yFcKgI-4",
        "colab": {
          "base_uri": "https://localhost:8080/"
        },
        "outputId": "da3533b6-e614-4852-9eb7-2ea4cc8b75c7"
      },
      "source": [
        "#iterate over range of 5 in english and french\n",
        "for i in range(5):\n",
        "  print('Sample: ', i)\n",
        "  #print english sentences\n",
        "  print(english_sentences[i])\n",
        "  #print french sentences\n",
        "  print(french_sentences[i])\n",
        "  print('-'*50)\n"
      ],
      "execution_count": 5,
      "outputs": [
        {
          "output_type": "stream",
          "name": "stdout",
          "text": [
            "Sample:  0\n",
            "new jersey is sometimes quiet during autumn , and it is snowy in april .\n",
            "new jersey est parfois calme pendant l' automne , et il est neigeux en avril .\n",
            "--------------------------------------------------\n",
            "Sample:  1\n",
            "the united states is usually chilly during july , and it is usually freezing in november .\n",
            "les états-unis est généralement froid en juillet , et il gèle habituellement en novembre .\n",
            "--------------------------------------------------\n",
            "Sample:  2\n",
            "california is usually quiet during march , and it is usually hot in june .\n",
            "california est généralement calme en mars , et il est généralement chaud en juin .\n",
            "--------------------------------------------------\n",
            "Sample:  3\n",
            "the united states is sometimes mild during june , and it is cold in september .\n",
            "les états-unis est parfois légère en juin , et il fait froid en septembre .\n",
            "--------------------------------------------------\n",
            "Sample:  4\n",
            "your least liked fruit is the grape , but my least liked is the apple .\n",
            "votre moins aimé fruit est le raisin , mais mon moins aimé est la pomme .\n",
            "--------------------------------------------------\n"
          ]
        }
      ]
    },
    {
      "cell_type": "markdown",
      "metadata": {
        "id": "4EV6ri_Shkff"
      },
      "source": [
        "#Convert to Vocabulary\n",
        "The complexity of the problem is determined by the complexity of the vocabulary. A more complex vocabulary is a more complex problem. Let's look at the complexity of the dataset we'll be working with.\n",
        "\n",
        "A counter is a container that stores elements as dictionary keys, and their counts are stored as dictionary values.<br>\n",
        "Refer:https://docs.python.org/3/library/collections.html"
      ]
    },
    {
      "cell_type": "code",
      "metadata": {
        "id": "_3fQhJ5J2E4D"
      },
      "source": [
        "#importing collections\n",
        "import collections"
      ],
      "execution_count": 6,
      "outputs": []
    },
    {
      "cell_type": "code",
      "metadata": {
        "id": "_U3gqv5WhOTy",
        "colab": {
          "base_uri": "https://localhost:8080/"
        },
        "outputId": "f1d48181-ab3c-4bd8-c7a1-c6458df94bc2"
      },
      "source": [
        "#we will check for english vocabulary\n",
        "#first we will iterate through english sentence\n",
        "#then we will split that words and then we will use counter function\n",
        "#refer more information in documentation\n",
        "#we done for english vocab\n",
        "#english_words_counter = collections.Counter([word for sentence in english_sentences for word in sentence.split()])\n",
        "english_words_counter = collections.Counter([word for sentence in english_sentences for word in sentence.split()])\n",
        "print('English Vocab: ', len(english_words_counter))\n",
        "french_words_counter = collections.Counter([word for sentence in french_sentences for word in sentence.split()])\n",
        "print('French Vocab: ', len(french_words_counter))\n"
      ],
      "execution_count": 7,
      "outputs": [
        {
          "output_type": "stream",
          "name": "stdout",
          "text": [
            "English Vocab:  227\n",
            "French Vocab:  355\n"
          ]
        }
      ]
    },
    {
      "cell_type": "markdown",
      "metadata": {
        "id": "lsl03eu-jW09"
      },
      "source": [
        "#Tokenize (IMPLEMENTATION)\n",
        "For a neural network to predict on text data, it first has to be turned into data it can understand. Text data like \"dog\" is a sequence of ASCII character encodings. Since a neural network is a series of multiplication and addition operations, the input data needs to be numbers.\n",
        "\n",
        "We can turn each character into a number or each word into a number. These are called character and word ids, respectively. Character ids are used for character level models that generate text predictions for each character. A word level model uses word ids that generate text predictions for each word. Word level models tend to learn better, since they are lower in complexity, so we'll use those.\n",
        "\n",
        "Turn each sentence into a sequence of words ids using Keras's Tokenizer function. Use this function to tokenize english_sentences and french_sentences in the cell below."
      ]
    },
    {
      "cell_type": "code",
      "metadata": {
        "id": "cYLtZ0WmjTjD"
      },
      "source": [
        "#The code tokenizes a string and returns the tokens as well as the text that was tokenized.\n",
        "#define a function\n",
        "def tokenize(x):\n",
        "  #create a object of tokenizer\n",
        "  tokenizer = Tokenizer()\n",
        "  #fit the data\n",
        "  tokenizer.fit_on_texts(x)\n",
        "  #return the  tokenizer.texts_to_sequences(x), tokenizer\n",
        "  return tokenizer.texts_to_sequences(x), tokenizer"
      ],
      "execution_count": 8,
      "outputs": []
    },
    {
      "cell_type": "markdown",
      "source": [
        "- The code starts by tokenizing the text_sentences list into individual sentences.Then, it prints out the word index of each sentence in the text_tokenized list.<br>\n",
        "Next, it iterates through each sentence and prints out a sample output for that sentence."
      ],
      "metadata": {
        "id": "FKiftBNLIttH"
      }
    },
    {
      "cell_type": "code",
      "metadata": {
        "id": "lkhE2V5bjyg_",
        "colab": {
          "base_uri": "https://localhost:8080/"
        },
        "outputId": "32fca676-8730-42b7-df9a-cce210d6188e"
      },
      "source": [
        "# Tokenize Sample output\n",
        "text_sentences = [\n",
        "    'The quick brown fox jumps over the lazy dog .',\n",
        "    'By Jove , my quick study of lexicography won a prize .',\n",
        "    'This is a short sentence .']\n",
        "\n",
        "#pass the sample text into tokenize[text_tokenized, text_tokenizer = tokenize(text_sentences)]\n",
        "text_tokenized, text_tokenizer = tokenize(text_sentences)\n",
        "#print text_tokenizer.word_index\n",
        "print(text_tokenizer.word_index)\n",
        "print()\n",
        "\n",
        "#iterate over sample text and text_tokeinzed\n",
        "for sample_i, (sent, token_sent) in enumerate(zip(text_sentences, text_tokenized)):\n",
        "\n",
        "  #print sequence\n",
        "  print('Sequence {} in x'.format(sample_i + 1))\n",
        "  #print input\n",
        "  print('  Input:  {}'.format(sent))\n",
        "  #print Output\n",
        "  print('  Output: {}'.format(token_sent))"
      ],
      "execution_count": 9,
      "outputs": [
        {
          "output_type": "stream",
          "name": "stdout",
          "text": [
            "{'the': 1, 'quick': 2, 'a': 3, 'brown': 4, 'fox': 5, 'jumps': 6, 'over': 7, 'lazy': 8, 'dog': 9, 'by': 10, 'jove': 11, 'my': 12, 'study': 13, 'of': 14, 'lexicography': 15, 'won': 16, 'prize': 17, 'this': 18, 'is': 19, 'short': 20, 'sentence': 21}\n",
            "\n",
            "Sequence 1 in x\n",
            "  Input:  The quick brown fox jumps over the lazy dog .\n",
            "  Output: [1, 2, 4, 5, 6, 7, 1, 8, 9]\n",
            "Sequence 2 in x\n",
            "  Input:  By Jove , my quick study of lexicography won a prize .\n",
            "  Output: [10, 11, 12, 2, 13, 14, 15, 16, 3, 17]\n",
            "Sequence 3 in x\n",
            "  Input:  This is a short sentence .\n",
            "  Output: [18, 19, 3, 20, 21]\n"
          ]
        }
      ]
    },
    {
      "cell_type": "markdown",
      "metadata": {
        "id": "cfiSCxQ7kRK3"
      },
      "source": [
        "#Padding (IMPLEMENTATION)\n",
        "When batching the sequence of word ids together, each sequence needs to be the same length. Since sentences are dynamic in length, we can add padding to the end of the sequences to make them the same length.\n",
        "\n",
        "Make sure all the English sequences have the same length and all the French sequences have the same length by adding padding to the end of each sequence using Keras's pad_sequences function."
      ]
    },
    {
      "cell_type": "code",
      "metadata": {
        "id": "6Daf_ngukNIS"
      },
      "source": [
        "#define a pad function and pass the x parameter\n",
        "def pad(x, length=None):\n",
        "  #return pad_sequences with x and maxlength and keep padding =post\n",
        "  return pad_sequences(x, maxlen=length, padding='post')\n"
      ],
      "execution_count": 10,
      "outputs": []
    },
    {
      "cell_type": "markdown",
      "source": [
        "- The code is used to preprocess the input data set. - The tokenize function splits the text into individual tokens, which are then passed to a function called pad that takes in a list of tokens and pads them with a specified character (in this case, spaces)."
      ],
      "metadata": {
        "id": "0LMUzdBGKei0"
      }
    },
    {
      "cell_type": "code",
      "metadata": {
        "id": "9LHAL30ik5x4",
        "colab": {
          "base_uri": "https://localhost:8080/"
        },
        "outputId": "633d4bac-904f-4bb4-b04a-dfe4a6ffae42"
      },
      "source": [
        "#define preproces function with x and y\n",
        "def preprocess(x, y):\n",
        "    #preproces the data of x\n",
        "    preprocess_x, x_tk = tokenize(x)\n",
        "\n",
        "    #preproces the data of y\n",
        "    preprocess_y, y_tk = tokenize(y)\n",
        "\n",
        "    #padding the data x\n",
        "    preprocess_x = pad(preprocess_x)\n",
        "    #padding the data y\n",
        "    preprocess_y = pad(preprocess_y)\n",
        "\n",
        "    # Keras's sparse_categorical_crossentropy function requires the labels to be in 3 dimensions\n",
        "    #Expanding dimensions\n",
        "    preprocess_y = preprocess_y.reshape(*preprocess_y.shape, 1)\n",
        "\n",
        "    #return preprocess_x, preprocess_y, x_tk, y_tk\n",
        "    return preprocess_x, preprocess_y, x_tk, y_tk\n",
        "\n",
        "#preproc_english_sentences, preproc_french_sentences, english_tokenizer, french_tokenizer =\\\n",
        "    #preprocess(english_sentences, french_sentences)\n",
        "preproc_english_sentences, preproc_french_sentences, english_tokenizer, french_tokenizer = preprocess(english_sentences, french_sentences)\n",
        "\n",
        "#print Max English sentence length\n",
        "max_english_sequence_length = preproc_english_sentences.shape[1]\n",
        "#print Max french sentence length\n",
        "max_french_sequence_length = preproc_french_sentences.shape[1]\n",
        "#print len of english vocabulary\n",
        "english_vocab_size = len(english_tokenizer.word_index)\n",
        "#print len of french vocabulary\n",
        "french_vocab_size = len(french_tokenizer.word_index)\n",
        "\n",
        "\n",
        "print('Data Preprocessed')\n",
        "print(\"Max English sentence length:\", max_english_sequence_length)\n",
        "print(\"Max French sentence length:\", max_french_sequence_length)\n",
        "print(\"English vocabulary size:\", english_vocab_size)\n",
        "print(\"French vocabulary size:\", french_vocab_size)"
      ],
      "execution_count": 12,
      "outputs": [
        {
          "output_type": "stream",
          "name": "stdout",
          "text": [
            "Data Preprocessed\n",
            "Max English sentence length: 15\n",
            "Max French sentence length: 21\n",
            "English vocabulary size: 199\n",
            "French vocabulary size: 344\n"
          ]
        }
      ]
    },
    {
      "cell_type": "markdown",
      "metadata": {
        "id": "6n7i4rD_22_J"
      },
      "source": [
        "#Create Model\n",
        "\n",
        "In this section, you will experiment with various neural network architectures. You will begin by training four relatively simple architectures.\n",
        "\n",
        "Model 1 is a simple RNN\n",
        "Model 2 is a RNN with Embedding\n",
        "Model 3 is a Bidirectional RNN\n",
        "Model 4 is an optional Encoder-Decoder RNN\n",
        "After experimenting with the four simple architectures, you will construct a deeper architecture that is designed to outperform all four models."
      ]
    },
    {
      "cell_type": "markdown",
      "metadata": {
        "id": "TSLZv-O_3Bgq"
      },
      "source": [
        "## Ids Back to Text\n",
        "The neural network will be translating the input to words ids, which isn't the final form we want. We want the French translation. The function logits_to_text will bridge the gab between the logits from the neural network to the French translation. You'll be using this function to better understand the output of the neural network."
      ]
    },
    {
      "cell_type": "code",
      "metadata": {
        "id": "7BDBJKw22yJa"
      },
      "source": [
        "#define a function of logits to text with 2 parameters logits, tokenizer\n",
        "def logits_to_text(logits, tokenizer):\n",
        "\n",
        "  #vThe code takes in an index_to_words dictionary which maps each word to its corresponding id. -\n",
        "  #Then, it uses this dictionary to find all the words with ids 0-9 and prints them\n",
        "  index_to_words = {id: word for word, id in tokenizer.word_index.items()}\n",
        "  #make index_to_words[0] = '<PAD>'\n",
        "  index_to_words[0] = '<PAD>'\n",
        "\n",
        "  #So basically we are predicting output for a given word and then selecting best answer\n",
        "  #Then selecting that label we reverse-enumerate the word from id\n",
        "  return ' '.join([index_to_words[prediction] for prediction in np.argmax(logits, 1)])"
      ],
      "execution_count": 13,
      "outputs": []
    },
    {
      "cell_type": "markdown",
      "metadata": {
        "id": "Mbg5kGAY3cvT"
      },
      "source": [
        "![Model](https://github.com/tommytracey/AIND-Capstone/raw/8267d4fe72e48c595a0aff46eaf0a805fff0f36d/images/embedding.png)"
      ]
    },
    {
      "cell_type": "markdown",
      "metadata": {
        "id": "HN-RjzvH3rpp"
      },
      "source": [
        "#Building Model\n",
        "Here we use RNN model combined with GRU nodes for translation\n",
        "\n",
        "- The code starts by defining the input shape and output sequence length.Next, it defines the number of unique English words in the dataset and French words in the dataset.The code then builds a Keras model using word embedding on x and y.It also sets hyperparameters for learning rate, which is 0.005, as well as building layers for this model.Finally, it compiles this model with sparse_categorical_crossentropy loss function and Adam optimizer with learning rate set to 0.005. The code will create a Keras model that has been trained to recognize words in English and French."
      ]
    },
    {
      "cell_type": "code",
      "metadata": {
        "id": "ta5yGpZ23amq"
      },
      "source": [
        "def embed_model(input_shape, output_sequence_length, english_vocab_size, french_vocab_size):\n",
        "    \"\"\"\n",
        "    Build and train a RNN model using word embedding on x and y\n",
        "    :param input_shape: Tuple of input shape\n",
        "    :param output_sequence_length: Length of output sequence\n",
        "    :param english_vocab_size: Number of unique English words in the dataset\n",
        "    :param french_vocab_size: Number of unique French words in the dataset\n",
        "    :return: Keras model built, but not trained\n",
        "    \"\"\"\n",
        "    # TODO: Implement\n",
        "\n",
        "    # Hyperparameters\n",
        "    #learning_rate = 0.005\n",
        "    learning_rate = 0.005\n",
        "\n",
        "    # TODO: Build the layers\n",
        "    #create model Sequential\n",
        "    model = Sequential()\n",
        "    #add embedding layer with english_vocab_size, 256, input_length=input_shape[1], input_shape=input_shape[1:]\n",
        "    model.add(Embedding(english_vocab_size, 256, input_length=input_shape[1], input_shape=input_shape[1:]))\n",
        "    #add GRU layer of 256\n",
        "    model.add(GRU(256, return_sequences=True))\n",
        "    #add TimeDistribute layer dense of 1024 and applying of activation function of relu\n",
        "    model.add(TimeDistributed(Dense(1024, activation='relu')))\n",
        "    #adding dropout layer\n",
        "    model.add(Dropout(0.5))\n",
        "    #add TimeDistributed Dense layer of french_vocab_size and applying softmax activation function\n",
        "    model.add(TimeDistributed(Dense(french_vocab_size, activation='softmax')))\n",
        "\n",
        "    # Compile model\n",
        "    # with loss function of activation function with adam optimizer and accuaray metrix\n",
        "    model.compile(loss=sparse_categorical_crossentropy,\n",
        "                  optimizer=Adam(learning_rate),\n",
        "                  metrics=['accuracy'])\n",
        "\n",
        "\n",
        "    #return model\n",
        "    return model"
      ],
      "execution_count": 14,
      "outputs": []
    },
    {
      "cell_type": "code",
      "metadata": {
        "id": "ubkWXBpu32Jh"
      },
      "source": [
        "# Reshaping the input to work with a basic RNN\n",
        "#tmp_x = pad(preproc_english_sentences, preproc_french_sentences.shape[1])\n",
        "tmp_x = pad(preproc_english_sentences, preproc_french_sentences.shape[1])\n",
        "#tmp_x = tmp_x.reshape((-1, preproc_french_sentences.shape[-2]))\n",
        "tmp_x = tmp_x.reshape((-1, preproc_french_sentences.shape[-2]))"
      ],
      "execution_count": 15,
      "outputs": []
    },
    {
      "cell_type": "markdown",
      "metadata": {
        "id": "2NXsCzht3-1y"
      },
      "source": [
        "Finally calling the model function"
      ]
    },
    {
      "cell_type": "code",
      "metadata": {
        "id": "8B9QZgl738qJ",
        "colab": {
          "base_uri": "https://localhost:8080/"
        },
        "outputId": "7a545796-cf38-4190-9905-9c79e1479c30"
      },
      "source": [
        "#calling our model\n",
        "#with tmp_x.shape, preproc_french_sentences.shape[1], len(english_tokenizer.word_index)+1,len(french_tokenizer.word_index)+1)\n",
        "simple_rnn_model = embed_model(\n",
        "    tmp_x.shape,\n",
        "    preproc_french_sentences.shape[1],\n",
        "    len(english_tokenizer.word_index)+1,\n",
        "    len(french_tokenizer.word_index)+1)\n",
        "\n",
        "\n",
        "\n",
        "\n"
      ],
      "execution_count": 16,
      "outputs": [
        {
          "output_type": "stream",
          "name": "stderr",
          "text": [
            "/usr/local/lib/python3.11/dist-packages/keras/src/layers/core/embedding.py:90: UserWarning: Argument `input_length` is deprecated. Just remove it.\n",
            "  warnings.warn(\n",
            "/usr/local/lib/python3.11/dist-packages/keras/src/layers/core/embedding.py:93: UserWarning: Do not pass an `input_shape`/`input_dim` argument to a layer. When using Sequential models, prefer using an `Input(shape)` object as the first layer in the model instead.\n",
            "  super().__init__(**kwargs)\n"
          ]
        }
      ]
    },
    {
      "cell_type": "markdown",
      "source": [
        "Printing model summary"
      ],
      "metadata": {
        "id": "301fqre_WAuU"
      }
    },
    {
      "cell_type": "code",
      "metadata": {
        "id": "R-2dQpBQ4EZa",
        "colab": {
          "base_uri": "https://localhost:8080/",
          "height": 304
        },
        "outputId": "dddeee3e-346c-4579-de94-26428961081e"
      },
      "source": [
        "#print Model summary\n",
        "simple_rnn_model.summary()"
      ],
      "execution_count": 17,
      "outputs": [
        {
          "output_type": "display_data",
          "data": {
            "text/plain": [
              "\u001b[1mModel: \"sequential\"\u001b[0m\n"
            ],
            "text/html": [
              "<pre style=\"white-space:pre;overflow-x:auto;line-height:normal;font-family:Menlo,'DejaVu Sans Mono',consolas,'Courier New',monospace\"><span style=\"font-weight: bold\">Model: \"sequential\"</span>\n",
              "</pre>\n"
            ]
          },
          "metadata": {}
        },
        {
          "output_type": "display_data",
          "data": {
            "text/plain": [
              "┏━━━━━━━━━━━━━━━━━━━━━━━━━━━━━━━━━━━━━━┳━━━━━━━━━━━━━━━━━━━━━━━━━━━━━┳━━━━━━━━━━━━━━━━━┓\n",
              "┃\u001b[1m \u001b[0m\u001b[1mLayer (type)                        \u001b[0m\u001b[1m \u001b[0m┃\u001b[1m \u001b[0m\u001b[1mOutput Shape               \u001b[0m\u001b[1m \u001b[0m┃\u001b[1m \u001b[0m\u001b[1m        Param #\u001b[0m\u001b[1m \u001b[0m┃\n",
              "┡━━━━━━━━━━━━━━━━━━━━━━━━━━━━━━━━━━━━━━╇━━━━━━━━━━━━━━━━━━━━━━━━━━━━━╇━━━━━━━━━━━━━━━━━┩\n",
              "│ embedding (\u001b[38;5;33mEmbedding\u001b[0m)                │ (\u001b[38;5;45mNone\u001b[0m, \u001b[38;5;34m21\u001b[0m, \u001b[38;5;34m256\u001b[0m)             │          \u001b[38;5;34m51,200\u001b[0m │\n",
              "├──────────────────────────────────────┼─────────────────────────────┼─────────────────┤\n",
              "│ gru (\u001b[38;5;33mGRU\u001b[0m)                            │ (\u001b[38;5;45mNone\u001b[0m, \u001b[38;5;34m21\u001b[0m, \u001b[38;5;34m256\u001b[0m)             │         \u001b[38;5;34m394,752\u001b[0m │\n",
              "├──────────────────────────────────────┼─────────────────────────────┼─────────────────┤\n",
              "│ time_distributed (\u001b[38;5;33mTimeDistributed\u001b[0m)   │ (\u001b[38;5;45mNone\u001b[0m, \u001b[38;5;34m21\u001b[0m, \u001b[38;5;34m1024\u001b[0m)            │         \u001b[38;5;34m263,168\u001b[0m │\n",
              "├──────────────────────────────────────┼─────────────────────────────┼─────────────────┤\n",
              "│ dropout (\u001b[38;5;33mDropout\u001b[0m)                    │ (\u001b[38;5;45mNone\u001b[0m, \u001b[38;5;34m21\u001b[0m, \u001b[38;5;34m1024\u001b[0m)            │               \u001b[38;5;34m0\u001b[0m │\n",
              "├──────────────────────────────────────┼─────────────────────────────┼─────────────────┤\n",
              "│ time_distributed_1 (\u001b[38;5;33mTimeDistributed\u001b[0m) │ (\u001b[38;5;45mNone\u001b[0m, \u001b[38;5;34m21\u001b[0m, \u001b[38;5;34m345\u001b[0m)             │         \u001b[38;5;34m353,625\u001b[0m │\n",
              "└──────────────────────────────────────┴─────────────────────────────┴─────────────────┘\n"
            ],
            "text/html": [
              "<pre style=\"white-space:pre;overflow-x:auto;line-height:normal;font-family:Menlo,'DejaVu Sans Mono',consolas,'Courier New',monospace\">┏━━━━━━━━━━━━━━━━━━━━━━━━━━━━━━━━━━━━━━┳━━━━━━━━━━━━━━━━━━━━━━━━━━━━━┳━━━━━━━━━━━━━━━━━┓\n",
              "┃<span style=\"font-weight: bold\"> Layer (type)                         </span>┃<span style=\"font-weight: bold\"> Output Shape                </span>┃<span style=\"font-weight: bold\">         Param # </span>┃\n",
              "┡━━━━━━━━━━━━━━━━━━━━━━━━━━━━━━━━━━━━━━╇━━━━━━━━━━━━━━━━━━━━━━━━━━━━━╇━━━━━━━━━━━━━━━━━┩\n",
              "│ embedding (<span style=\"color: #0087ff; text-decoration-color: #0087ff\">Embedding</span>)                │ (<span style=\"color: #00d7ff; text-decoration-color: #00d7ff\">None</span>, <span style=\"color: #00af00; text-decoration-color: #00af00\">21</span>, <span style=\"color: #00af00; text-decoration-color: #00af00\">256</span>)             │          <span style=\"color: #00af00; text-decoration-color: #00af00\">51,200</span> │\n",
              "├──────────────────────────────────────┼─────────────────────────────┼─────────────────┤\n",
              "│ gru (<span style=\"color: #0087ff; text-decoration-color: #0087ff\">GRU</span>)                            │ (<span style=\"color: #00d7ff; text-decoration-color: #00d7ff\">None</span>, <span style=\"color: #00af00; text-decoration-color: #00af00\">21</span>, <span style=\"color: #00af00; text-decoration-color: #00af00\">256</span>)             │         <span style=\"color: #00af00; text-decoration-color: #00af00\">394,752</span> │\n",
              "├──────────────────────────────────────┼─────────────────────────────┼─────────────────┤\n",
              "│ time_distributed (<span style=\"color: #0087ff; text-decoration-color: #0087ff\">TimeDistributed</span>)   │ (<span style=\"color: #00d7ff; text-decoration-color: #00d7ff\">None</span>, <span style=\"color: #00af00; text-decoration-color: #00af00\">21</span>, <span style=\"color: #00af00; text-decoration-color: #00af00\">1024</span>)            │         <span style=\"color: #00af00; text-decoration-color: #00af00\">263,168</span> │\n",
              "├──────────────────────────────────────┼─────────────────────────────┼─────────────────┤\n",
              "│ dropout (<span style=\"color: #0087ff; text-decoration-color: #0087ff\">Dropout</span>)                    │ (<span style=\"color: #00d7ff; text-decoration-color: #00d7ff\">None</span>, <span style=\"color: #00af00; text-decoration-color: #00af00\">21</span>, <span style=\"color: #00af00; text-decoration-color: #00af00\">1024</span>)            │               <span style=\"color: #00af00; text-decoration-color: #00af00\">0</span> │\n",
              "├──────────────────────────────────────┼─────────────────────────────┼─────────────────┤\n",
              "│ time_distributed_1 (<span style=\"color: #0087ff; text-decoration-color: #0087ff\">TimeDistributed</span>) │ (<span style=\"color: #00d7ff; text-decoration-color: #00d7ff\">None</span>, <span style=\"color: #00af00; text-decoration-color: #00af00\">21</span>, <span style=\"color: #00af00; text-decoration-color: #00af00\">345</span>)             │         <span style=\"color: #00af00; text-decoration-color: #00af00\">353,625</span> │\n",
              "└──────────────────────────────────────┴─────────────────────────────┴─────────────────┘\n",
              "</pre>\n"
            ]
          },
          "metadata": {}
        },
        {
          "output_type": "display_data",
          "data": {
            "text/plain": [
              "\u001b[1m Total params: \u001b[0m\u001b[38;5;34m1,062,745\u001b[0m (4.05 MB)\n"
            ],
            "text/html": [
              "<pre style=\"white-space:pre;overflow-x:auto;line-height:normal;font-family:Menlo,'DejaVu Sans Mono',consolas,'Courier New',monospace\"><span style=\"font-weight: bold\"> Total params: </span><span style=\"color: #00af00; text-decoration-color: #00af00\">1,062,745</span> (4.05 MB)\n",
              "</pre>\n"
            ]
          },
          "metadata": {}
        },
        {
          "output_type": "display_data",
          "data": {
            "text/plain": [
              "\u001b[1m Trainable params: \u001b[0m\u001b[38;5;34m1,062,745\u001b[0m (4.05 MB)\n"
            ],
            "text/html": [
              "<pre style=\"white-space:pre;overflow-x:auto;line-height:normal;font-family:Menlo,'DejaVu Sans Mono',consolas,'Courier New',monospace\"><span style=\"font-weight: bold\"> Trainable params: </span><span style=\"color: #00af00; text-decoration-color: #00af00\">1,062,745</span> (4.05 MB)\n",
              "</pre>\n"
            ]
          },
          "metadata": {}
        },
        {
          "output_type": "display_data",
          "data": {
            "text/plain": [
              "\u001b[1m Non-trainable params: \u001b[0m\u001b[38;5;34m0\u001b[0m (0.00 B)\n"
            ],
            "text/html": [
              "<pre style=\"white-space:pre;overflow-x:auto;line-height:normal;font-family:Menlo,'DejaVu Sans Mono',consolas,'Courier New',monospace\"><span style=\"font-weight: bold\"> Non-trainable params: </span><span style=\"color: #00af00; text-decoration-color: #00af00\">0</span> (0.00 B)\n",
              "</pre>\n"
            ]
          },
          "metadata": {}
        }
      ]
    },
    {
      "cell_type": "markdown",
      "metadata": {
        "id": "tMDG7ttA4JGS"
      },
      "source": [
        "#Training the model\n",
        "Here we start to train the model and pass the english text and the max_sequence_length, with vocab size for both english and french text"
      ]
    },
    {
      "cell_type": "code",
      "metadata": {
        "id": "fY7037yU4HCp",
        "colab": {
          "base_uri": "https://localhost:8080/"
        },
        "outputId": "87852c30-ea2e-461a-87b6-27b945146d49"
      },
      "source": [
        "#model train with tmp_x, preproc_french_sentences, batch_size=1024, epochs=20, validation_split=0.2\n",
        "history = simple_rnn_model.fit(tmp_x, preproc_french_sentences, batch_size=1024, epochs=20, validation_split=0.2)"
      ],
      "execution_count": 18,
      "outputs": [
        {
          "output_type": "stream",
          "name": "stdout",
          "text": [
            "Epoch 1/20\n",
            "\u001b[1m108/108\u001b[0m \u001b[32m━━━━━━━━━━━━━━━━━━━━\u001b[0m\u001b[37m\u001b[0m \u001b[1m17s\u001b[0m 97ms/step - accuracy: 0.5982 - loss: 1.9816 - val_accuracy: 0.8627 - val_loss: 0.4186\n",
            "Epoch 2/20\n",
            "\u001b[1m108/108\u001b[0m \u001b[32m━━━━━━━━━━━━━━━━━━━━\u001b[0m\u001b[37m\u001b[0m \u001b[1m10s\u001b[0m 91ms/step - accuracy: 0.8681 - loss: 0.4010 - val_accuracy: 0.9071 - val_loss: 0.2739\n",
            "Epoch 3/20\n",
            "\u001b[1m108/108\u001b[0m \u001b[32m━━━━━━━━━━━━━━━━━━━━\u001b[0m\u001b[37m\u001b[0m \u001b[1m10s\u001b[0m 91ms/step - accuracy: 0.9058 - loss: 0.2811 - val_accuracy: 0.9222 - val_loss: 0.2281\n",
            "Epoch 4/20\n",
            "\u001b[1m108/108\u001b[0m \u001b[32m━━━━━━━━━━━━━━━━━━━━\u001b[0m\u001b[37m\u001b[0m \u001b[1m10s\u001b[0m 92ms/step - accuracy: 0.9190 - loss: 0.2393 - val_accuracy: 0.9270 - val_loss: 0.2121\n",
            "Epoch 5/20\n",
            "\u001b[1m108/108\u001b[0m \u001b[32m━━━━━━━━━━━━━━━━━━━━\u001b[0m\u001b[37m\u001b[0m \u001b[1m10s\u001b[0m 93ms/step - accuracy: 0.9255 - loss: 0.2156 - val_accuracy: 0.9306 - val_loss: 0.2015\n",
            "Epoch 6/20\n",
            "\u001b[1m108/108\u001b[0m \u001b[32m━━━━━━━━━━━━━━━━━━━━\u001b[0m\u001b[37m\u001b[0m \u001b[1m10s\u001b[0m 91ms/step - accuracy: 0.9297 - loss: 0.2028 - val_accuracy: 0.9322 - val_loss: 0.1948\n",
            "Epoch 7/20\n",
            "\u001b[1m108/108\u001b[0m \u001b[32m━━━━━━━━━━━━━━━━━━━━\u001b[0m\u001b[37m\u001b[0m \u001b[1m10s\u001b[0m 92ms/step - accuracy: 0.9320 - loss: 0.1939 - val_accuracy: 0.9340 - val_loss: 0.1902\n",
            "Epoch 8/20\n",
            "\u001b[1m108/108\u001b[0m \u001b[32m━━━━━━━━━━━━━━━━━━━━\u001b[0m\u001b[37m\u001b[0m \u001b[1m10s\u001b[0m 92ms/step - accuracy: 0.9338 - loss: 0.1876 - val_accuracy: 0.9358 - val_loss: 0.1858\n",
            "Epoch 9/20\n",
            "\u001b[1m108/108\u001b[0m \u001b[32m━━━━━━━━━━━━━━━━━━━━\u001b[0m\u001b[37m\u001b[0m \u001b[1m10s\u001b[0m 93ms/step - accuracy: 0.9353 - loss: 0.1809 - val_accuracy: 0.9358 - val_loss: 0.1824\n",
            "Epoch 10/20\n",
            "\u001b[1m108/108\u001b[0m \u001b[32m━━━━━━━━━━━━━━━━━━━━\u001b[0m\u001b[37m\u001b[0m \u001b[1m10s\u001b[0m 92ms/step - accuracy: 0.9359 - loss: 0.1787 - val_accuracy: 0.9359 - val_loss: 0.1819\n",
            "Epoch 11/20\n",
            "\u001b[1m108/108\u001b[0m \u001b[32m━━━━━━━━━━━━━━━━━━━━\u001b[0m\u001b[37m\u001b[0m \u001b[1m10s\u001b[0m 93ms/step - accuracy: 0.9364 - loss: 0.1763 - val_accuracy: 0.9365 - val_loss: 0.1802\n",
            "Epoch 12/20\n",
            "\u001b[1m108/108\u001b[0m \u001b[32m━━━━━━━━━━━━━━━━━━━━\u001b[0m\u001b[37m\u001b[0m \u001b[1m11s\u001b[0m 98ms/step - accuracy: 0.9377 - loss: 0.1717 - val_accuracy: 0.9364 - val_loss: 0.1827\n",
            "Epoch 13/20\n",
            "\u001b[1m108/108\u001b[0m \u001b[32m━━━━━━━━━━━━━━━━━━━━\u001b[0m\u001b[37m\u001b[0m \u001b[1m20s\u001b[0m 93ms/step - accuracy: 0.9376 - loss: 0.1721 - val_accuracy: 0.9367 - val_loss: 0.1830\n",
            "Epoch 14/20\n",
            "\u001b[1m108/108\u001b[0m \u001b[32m━━━━━━━━━━━━━━━━━━━━\u001b[0m\u001b[37m\u001b[0m \u001b[1m10s\u001b[0m 93ms/step - accuracy: 0.9376 - loss: 0.1722 - val_accuracy: 0.9376 - val_loss: 0.1789\n",
            "Epoch 15/20\n",
            "\u001b[1m108/108\u001b[0m \u001b[32m━━━━━━━━━━━━━━━━━━━━\u001b[0m\u001b[37m\u001b[0m \u001b[1m10s\u001b[0m 93ms/step - accuracy: 0.9376 - loss: 0.1709 - val_accuracy: 0.9371 - val_loss: 0.1834\n",
            "Epoch 16/20\n",
            "\u001b[1m108/108\u001b[0m \u001b[32m━━━━━━━━━━━━━━━━━━━━\u001b[0m\u001b[37m\u001b[0m \u001b[1m10s\u001b[0m 93ms/step - accuracy: 0.9379 - loss: 0.1704 - val_accuracy: 0.9376 - val_loss: 0.1820\n",
            "Epoch 17/20\n",
            "\u001b[1m108/108\u001b[0m \u001b[32m━━━━━━━━━━━━━━━━━━━━\u001b[0m\u001b[37m\u001b[0m \u001b[1m11s\u001b[0m 99ms/step - accuracy: 0.9388 - loss: 0.1669 - val_accuracy: 0.9380 - val_loss: 0.1785\n",
            "Epoch 18/20\n",
            "\u001b[1m108/108\u001b[0m \u001b[32m━━━━━━━━━━━━━━━━━━━━\u001b[0m\u001b[37m\u001b[0m \u001b[1m20s\u001b[0m 93ms/step - accuracy: 0.9389 - loss: 0.1655 - val_accuracy: 0.9372 - val_loss: 0.1816\n",
            "Epoch 19/20\n",
            "\u001b[1m108/108\u001b[0m \u001b[32m━━━━━━━━━━━━━━━━━━━━\u001b[0m\u001b[37m\u001b[0m \u001b[1m10s\u001b[0m 93ms/step - accuracy: 0.9385 - loss: 0.1680 - val_accuracy: 0.9384 - val_loss: 0.1802\n",
            "Epoch 20/20\n",
            "\u001b[1m108/108\u001b[0m \u001b[32m━━━━━━━━━━━━━━━━━━━━\u001b[0m\u001b[37m\u001b[0m \u001b[1m10s\u001b[0m 93ms/step - accuracy: 0.9397 - loss: 0.1640 - val_accuracy: 0.9382 - val_loss: 0.1814\n"
          ]
        }
      ]
    },
    {
      "cell_type": "markdown",
      "source": [
        "#Saving our model"
      ],
      "metadata": {
        "id": "HodMPRh1WNys"
      }
    },
    {
      "cell_type": "code",
      "metadata": {
        "id": "Um2UZ6EbSge9",
        "colab": {
          "base_uri": "https://localhost:8080/"
        },
        "outputId": "56a08fdc-f031-4577-956a-329095634055"
      },
      "source": [
        "#save our model\n",
        "simple_rnn_model.save('model.h5')"
      ],
      "execution_count": 19,
      "outputs": [
        {
          "output_type": "stream",
          "name": "stderr",
          "text": [
            "WARNING:absl:You are saving your model as an HDF5 file via `model.save()` or `keras.saving.save_model(model)`. This file format is considered legacy. We recommend using instead the native Keras format, e.g. `model.save('my_model.keras')` or `keras.saving.save_model(model, 'my_model.keras')`. \n"
          ]
        }
      ]
    },
    {
      "cell_type": "markdown",
      "metadata": {
        "id": "Lg0KtRlXBHPE"
      },
      "source": [
        "#Arbitrary Predictions\n",
        "Performing predictions on the models using User Input."
      ]
    },
    {
      "cell_type": "code",
      "metadata": {
        "id": "ys8_8FhABNfx"
      },
      "source": [
        "#define a function for final_predictions with text timetable.\n",
        "def final_predictions(text):\n",
        "\n",
        "  #converting y_ids to words [y_id_to_word = {value: key for key, value in french_tokenizer.word_index.items()}]\n",
        "  y_id_to_word = {value: key for key, value in french_tokenizer.word_index.items()}\n",
        "  #y_id_to_word[0] = '<PAD>'\n",
        "  y_id_to_word[0] = '<PAD>'\n",
        "\n",
        "  #spliting our english word and tokezing\n",
        "  sentence = [english_tokenizer.word_index[word] for word in text.split()]\n",
        "  #padding our sentences\n",
        "  sentence = pad_sequences([sentence], maxlen=preproc_french_sentences.shape[-2], padding='post')\n",
        "  #converting into text\n",
        "  text1 = logits_to_text(simple_rnn_model.predict(sentence[:1])[0], french_tokenizer)\n",
        "  #avoiding of <PAD> part in output\n",
        "  #create a variable of text\n",
        "  text2=\"\"\n",
        "  #iterate over text split\n",
        "  for i in text1.split():\n",
        "    #if i == <pad>\n",
        "    if i == '<PAD>':\n",
        "      #then break\n",
        "      break\n",
        "    #else\n",
        "    else:\n",
        "      #text2=text2+\" \"+i\n",
        "      text2=text2+\" \"+i\n",
        "  #return text\n",
        "  return text2"
      ],
      "execution_count": 20,
      "outputs": []
    },
    {
      "cell_type": "code",
      "source": [
        "final_predictions(input())"
      ],
      "metadata": {
        "colab": {
          "base_uri": "https://localhost:8080/",
          "height": 70
        },
        "id": "bhmI5DFw1Z32",
        "outputId": "51ba4506-8b43-45d3-b2f8-4405dde81df7"
      },
      "execution_count": 21,
      "outputs": [
        {
          "output_type": "stream",
          "name": "stdout",
          "text": [
            "it is during the spring\n",
            "\u001b[1m1/1\u001b[0m \u001b[32m━━━━━━━━━━━━━━━━━━━━\u001b[0m\u001b[37m\u001b[0m \u001b[1m0s\u001b[0m 448ms/step\n"
          ]
        },
        {
          "output_type": "execute_result",
          "data": {
            "text/plain": [
              "' il est en la au au'"
            ],
            "application/vnd.google.colaboratory.intrinsic+json": {
              "type": "string"
            }
          },
          "metadata": {},
          "execution_count": 21
        }
      ]
    },
    {
      "cell_type": "markdown",
      "metadata": {
        "id": "aNJp0UldE2g6"
      },
      "source": [
        "#Implementation\n",
        "Enter your input here to get predictions. We will using Gradio for implementation part. Refer video for detailed information"
      ]
    },
    {
      "cell_type": "code",
      "source": [
        "####Refer Video\n",
        "from IPython.display import YouTubeVideo\n",
        "YouTubeVideo('RiCQzBluTxU', width=600, height=300)"
      ],
      "metadata": {
        "colab": {
          "base_uri": "https://localhost:8080/",
          "height": 321
        },
        "id": "P0gKqC_waXC8",
        "outputId": "073e5d34-0099-46a9-e1ec-e9b9f026d2af"
      },
      "execution_count": null,
      "outputs": [
        {
          "output_type": "execute_result",
          "data": {
            "text/html": [
              "\n",
              "        <iframe\n",
              "            width=\"600\"\n",
              "            height=\"300\"\n",
              "            src=\"https://www.youtube.com/embed/RiCQzBluTxU\"\n",
              "            frameborder=\"0\"\n",
              "            allowfullscreen\n",
              "        ></iframe>\n",
              "        "
            ],
            "text/plain": [
              "<IPython.lib.display.YouTubeVideo at 0x7f38b4e7afd0>"
            ],
            "image/jpeg": "[encoded data removed]"
          },
          "metadata": {},
          "execution_count": 1
        }
      ]
    },
    {
      "cell_type": "code",
      "source": [
        "#pip install gradio\n",
        "!pip install gradio"
      ],
      "metadata": {
        "id": "ydqiUysprgoA",
        "colab": {
          "base_uri": "https://localhost:8080/"
        },
        "outputId": "a1e7a3da-9e2d-48f3-bd0c-f889d19dddf2"
      },
      "execution_count": 22,
      "outputs": [
        {
          "output_type": "stream",
          "name": "stdout",
          "text": [
            "Collecting gradio\n",
            "  Downloading gradio-5.22.0-py3-none-any.whl.metadata (16 kB)\n",
            "Collecting aiofiles<24.0,>=22.0 (from gradio)\n",
            "  Downloading aiofiles-23.2.1-py3-none-any.whl.metadata (9.7 kB)\n",
            "Requirement already satisfied: anyio<5.0,>=3.0 in /usr/local/lib/python3.11/dist-packages (from gradio) (4.9.0)\n",
            "Collecting fastapi<1.0,>=0.115.2 (from gradio)\n",
            "  Downloading fastapi-0.115.11-py3-none-any.whl.metadata (27 kB)\n",
            "Collecting ffmpy (from gradio)\n",
            "  Downloading ffmpy-0.5.0-py3-none-any.whl.metadata (3.0 kB)\n",
            "Collecting gradio-client==1.8.0 (from gradio)\n",
            "  Downloading gradio_client-1.8.0-py3-none-any.whl.metadata (7.1 kB)\n",
            "Collecting groovy~=0.1 (from gradio)\n",
            "  Downloading groovy-0.1.2-py3-none-any.whl.metadata (6.1 kB)\n",
            "Requirement already satisfied: httpx>=0.24.1 in /usr/local/lib/python3.11/dist-packages (from gradio) (0.28.1)\n",
            "Requirement already satisfied: huggingface-hub>=0.28.1 in /usr/local/lib/python3.11/dist-packages (from gradio) (0.29.3)\n",
            "Requirement already satisfied: jinja2<4.0 in /usr/local/lib/python3.11/dist-packages (from gradio) (3.1.6)\n",
            "Requirement already satisfied: markupsafe<4.0,>=2.0 in /usr/local/lib/python3.11/dist-packages (from gradio) (3.0.2)\n",
            "Requirement already satisfied: numpy<3.0,>=1.0 in /usr/local/lib/python3.11/dist-packages (from gradio) (2.0.2)\n",
            "Requirement already satisfied: orjson~=3.0 in /usr/local/lib/python3.11/dist-packages (from gradio) (3.10.15)\n",
            "Requirement already satisfied: packaging in /usr/local/lib/python3.11/dist-packages (from gradio) (24.2)\n",
            "Requirement already satisfied: pandas<3.0,>=1.0 in /usr/local/lib/python3.11/dist-packages (from gradio) (2.2.2)\n",
            "Requirement already satisfied: pillow<12.0,>=8.0 in /usr/local/lib/python3.11/dist-packages (from gradio) (11.1.0)\n",
            "Requirement already satisfied: pydantic>=2.0 in /usr/local/lib/python3.11/dist-packages (from gradio) (2.10.6)\n",
            "Collecting pydub (from gradio)\n",
            "  Downloading pydub-0.25.1-py2.py3-none-any.whl.metadata (1.4 kB)\n",
            "Collecting python-multipart>=0.0.18 (from gradio)\n",
            "  Downloading python_multipart-0.0.20-py3-none-any.whl.metadata (1.8 kB)\n",
            "Requirement already satisfied: pyyaml<7.0,>=5.0 in /usr/local/lib/python3.11/dist-packages (from gradio) (6.0.2)\n",
            "Collecting ruff>=0.9.3 (from gradio)\n",
            "  Downloading ruff-0.11.2-py3-none-manylinux_2_17_x86_64.manylinux2014_x86_64.whl.metadata (25 kB)\n",
            "Collecting safehttpx<0.2.0,>=0.1.6 (from gradio)\n",
            "  Downloading safehttpx-0.1.6-py3-none-any.whl.metadata (4.2 kB)\n",
            "Collecting semantic-version~=2.0 (from gradio)\n",
            "  Downloading semantic_version-2.10.0-py2.py3-none-any.whl.metadata (9.7 kB)\n",
            "Collecting starlette<1.0,>=0.40.0 (from gradio)\n",
            "  Downloading starlette-0.46.1-py3-none-any.whl.metadata (6.2 kB)\n",
            "Collecting tomlkit<0.14.0,>=0.12.0 (from gradio)\n",
            "  Downloading tomlkit-0.13.2-py3-none-any.whl.metadata (2.7 kB)\n",
            "Requirement already satisfied: typer<1.0,>=0.12 in /usr/local/lib/python3.11/dist-packages (from gradio) (0.15.2)\n",
            "Requirement already satisfied: typing-extensions~=4.0 in /usr/local/lib/python3.11/dist-packages (from gradio) (4.12.2)\n",
            "Collecting uvicorn>=0.14.0 (from gradio)\n",
            "  Downloading uvicorn-0.34.0-py3-none-any.whl.metadata (6.5 kB)\n",
            "Requirement already satisfied: fsspec in /usr/local/lib/python3.11/dist-packages (from gradio-client==1.8.0->gradio) (2025.3.0)\n",
            "Requirement already satisfied: websockets<16.0,>=10.0 in /usr/local/lib/python3.11/dist-packages (from gradio-client==1.8.0->gradio) (14.2)\n",
            "Requirement already satisfied: idna>=2.8 in /usr/local/lib/python3.11/dist-packages (from anyio<5.0,>=3.0->gradio) (3.10)\n",
            "Requirement already satisfied: sniffio>=1.1 in /usr/local/lib/python3.11/dist-packages (from anyio<5.0,>=3.0->gradio) (1.3.1)\n",
            "Requirement already satisfied: certifi in /usr/local/lib/python3.11/dist-packages (from httpx>=0.24.1->gradio) (2025.1.31)\n",
            "Requirement already satisfied: httpcore==1.* in /usr/local/lib/python3.11/dist-packages (from httpx>=0.24.1->gradio) (1.0.7)\n",
            "Requirement already satisfied: h11<0.15,>=0.13 in /usr/local/lib/python3.11/dist-packages (from httpcore==1.*->httpx>=0.24.1->gradio) (0.14.0)\n",
            "Requirement already satisfied: filelock in /usr/local/lib/python3.11/dist-packages (from huggingface-hub>=0.28.1->gradio) (3.18.0)\n",
            "Requirement already satisfied: requests in /usr/local/lib/python3.11/dist-packages (from huggingface-hub>=0.28.1->gradio) (2.32.3)\n",
            "Requirement already satisfied: tqdm>=4.42.1 in /usr/local/lib/python3.11/dist-packages (from huggingface-hub>=0.28.1->gradio) (4.67.1)\n",
            "Requirement already satisfied: python-dateutil>=2.8.2 in /usr/local/lib/python3.11/dist-packages (from pandas<3.0,>=1.0->gradio) (2.8.2)\n",
            "Requirement already satisfied: pytz>=2020.1 in /usr/local/lib/python3.11/dist-packages (from pandas<3.0,>=1.0->gradio) (2025.1)\n",
            "Requirement already satisfied: tzdata>=2022.7 in /usr/local/lib/python3.11/dist-packages (from pandas<3.0,>=1.0->gradio) (2025.1)\n",
            "Requirement already satisfied: annotated-types>=0.6.0 in /usr/local/lib/python3.11/dist-packages (from pydantic>=2.0->gradio) (0.7.0)\n",
            "Requirement already satisfied: pydantic-core==2.27.2 in /usr/local/lib/python3.11/dist-packages (from pydantic>=2.0->gradio) (2.27.2)\n",
            "Requirement already satisfied: click>=8.0.0 in /usr/local/lib/python3.11/dist-packages (from typer<1.0,>=0.12->gradio) (8.1.8)\n",
            "Requirement already satisfied: shellingham>=1.3.0 in /usr/local/lib/python3.11/dist-packages (from typer<1.0,>=0.12->gradio) (1.5.4)\n",
            "Requirement already satisfied: rich>=10.11.0 in /usr/local/lib/python3.11/dist-packages (from typer<1.0,>=0.12->gradio) (13.9.4)\n",
            "Requirement already satisfied: six>=1.5 in /usr/local/lib/python3.11/dist-packages (from python-dateutil>=2.8.2->pandas<3.0,>=1.0->gradio) (1.17.0)\n",
            "Requirement already satisfied: markdown-it-py>=2.2.0 in /usr/local/lib/python3.11/dist-packages (from rich>=10.11.0->typer<1.0,>=0.12->gradio) (3.0.0)\n",
            "Requirement already satisfied: pygments<3.0.0,>=2.13.0 in /usr/local/lib/python3.11/dist-packages (from rich>=10.11.0->typer<1.0,>=0.12->gradio) (2.18.0)\n",
            "Requirement already satisfied: charset-normalizer<4,>=2 in /usr/local/lib/python3.11/dist-packages (from requests->huggingface-hub>=0.28.1->gradio) (3.4.1)\n",
            "Requirement already satisfied: urllib3<3,>=1.21.1 in /usr/local/lib/python3.11/dist-packages (from requests->huggingface-hub>=0.28.1->gradio) (2.3.0)\n",
            "Requirement already satisfied: mdurl~=0.1 in /usr/local/lib/python3.11/dist-packages (from markdown-it-py>=2.2.0->rich>=10.11.0->typer<1.0,>=0.12->gradio) (0.1.2)\n",
            "Downloading gradio-5.22.0-py3-none-any.whl (46.2 MB)\n",
            "\u001b[2K   \u001b[90m━━━━━━━━━━━━━━━━━━━━━━━━━━━━━━━━━━━━━━━━\u001b[0m \u001b[32m46.2/46.2 MB\u001b[0m \u001b[31m26.5 MB/s\u001b[0m eta \u001b[36m0:00:00\u001b[0m\n",
            "\u001b[?25hDownloading gradio_client-1.8.0-py3-none-any.whl (322 kB)\n",
            "\u001b[2K   \u001b[90m━━━━━━━━━━━━━━━━━━━━━━━━━━━━━━━━━━━━━━━━\u001b[0m \u001b[32m322.2/322.2 kB\u001b[0m \u001b[31m29.5 MB/s\u001b[0m eta \u001b[36m0:00:00\u001b[0m\n",
            "\u001b[?25hDownloading aiofiles-23.2.1-py3-none-any.whl (15 kB)\n",
            "Downloading fastapi-0.115.11-py3-none-any.whl (94 kB)\n",
            "\u001b[2K   \u001b[90m━━━━━━━━━━━━━━━━━━━━━━━━━━━━━━━━━━━━━━━━\u001b[0m \u001b[32m94.9/94.9 kB\u001b[0m \u001b[31m9.9 MB/s\u001b[0m eta \u001b[36m0:00:00\u001b[0m\n",
            "\u001b[?25hDownloading groovy-0.1.2-py3-none-any.whl (14 kB)\n",
            "Downloading python_multipart-0.0.20-py3-none-any.whl (24 kB)\n",
            "Downloading ruff-0.11.2-py3-none-manylinux_2_17_x86_64.manylinux2014_x86_64.whl (11.3 MB)\n",
            "\u001b[2K   \u001b[90m━━━━━━━━━━━━━━━━━━━━━━━━━━━━━━━━━━━━━━━━\u001b[0m \u001b[32m11.3/11.3 MB\u001b[0m \u001b[31m123.8 MB/s\u001b[0m eta \u001b[36m0:00:00\u001b[0m\n",
            "\u001b[?25hDownloading safehttpx-0.1.6-py3-none-any.whl (8.7 kB)\n",
            "Downloading semantic_version-2.10.0-py2.py3-none-any.whl (15 kB)\n",
            "Downloading starlette-0.46.1-py3-none-any.whl (71 kB)\n",
            "\u001b[2K   \u001b[90m━━━━━━━━━━━━━━━━━━━━━━━━━━━━━━━━━━━━━━━━\u001b[0m \u001b[32m72.0/72.0 kB\u001b[0m \u001b[31m6.4 MB/s\u001b[0m eta \u001b[36m0:00:00\u001b[0m\n",
            "\u001b[?25hDownloading tomlkit-0.13.2-py3-none-any.whl (37 kB)\n",
            "Downloading uvicorn-0.34.0-py3-none-any.whl (62 kB)\n",
            "\u001b[2K   \u001b[90m━━━━━━━━━━━━━━━━━━━━━━━━━━━━━━━━━━━━━━━━\u001b[0m \u001b[32m62.3/62.3 kB\u001b[0m \u001b[31m6.1 MB/s\u001b[0m eta \u001b[36m0:00:00\u001b[0m\n",
            "\u001b[?25hDownloading ffmpy-0.5.0-py3-none-any.whl (6.0 kB)\n",
            "Downloading pydub-0.25.1-py2.py3-none-any.whl (32 kB)\n",
            "Installing collected packages: pydub, uvicorn, tomlkit, semantic-version, ruff, python-multipart, groovy, ffmpy, aiofiles, starlette, safehttpx, gradio-client, fastapi, gradio\n",
            "Successfully installed aiofiles-23.2.1 fastapi-0.115.11 ffmpy-0.5.0 gradio-5.22.0 gradio-client-1.8.0 groovy-0.1.2 pydub-0.25.1 python-multipart-0.0.20 ruff-0.11.2 safehttpx-0.1.6 semantic-version-2.10.0 starlette-0.46.1 tomlkit-0.13.2 uvicorn-0.34.0\n"
          ]
        }
      ]
    },
    {
      "cell_type": "markdown",
      "source": [
        "After installing, we import gradio as gr"
      ],
      "metadata": {
        "id": "0tURKFZaa6Gy"
      }
    },
    {
      "cell_type": "code",
      "source": [
        "#impprt gradio as gr\n",
        "import gradio as gr"
      ],
      "metadata": {
        "id": "-G4RUS7HbDv6"
      },
      "execution_count": 23,
      "outputs": []
    },
    {
      "cell_type": "markdown",
      "source": [
        "- The code creates an interface with a function called final_predictions. - The inputs of the interface are a textbox that has two lines and a placeholder, which is \"Text to translate\". - The outputs of the interface are \"text\". - The code launches the program in debug mode."
      ],
      "metadata": {
        "id": "CPNaXvU_bu3O"
      }
    },
    {
      "cell_type": "code",
      "source": [
        "#creating interface for gradio\n",
        "interface = gr.Interface(\n",
        "    fn = final_predictions,\n",
        "    inputs=gr.Textbox(lines=2, placeholder='Text to translate'),\n",
        "    outputs='text'\n",
        ")\n",
        "\n",
        "\n",
        "\n",
        "#lanuch the interface\n",
        "interface.launch(debug=True)\n",
        "\n"
      ],
      "metadata": {
        "colab": {
          "base_uri": "https://localhost:8080/",
          "height": 698
        },
        "id": "0eAJ2TuFpKKU",
        "outputId": "7635f0ee-99bc-4d37-98fe-e7becc1e759b"
      },
      "execution_count": 25,
      "outputs": [
        {
          "output_type": "stream",
          "name": "stdout",
          "text": [
            "Running Gradio in a Colab notebook requires sharing enabled. Automatically setting `share=True` (you can turn this off by setting `share=False` in `launch()` explicitly).\n",
            "\n",
            "Colab notebook detected. This cell will run indefinitely so that you can see errors and logs. To turn off, set debug=False in launch().\n",
            "* Running on public URL: https://5e09d3805322d618b8.gradio.live\n",
            "\n",
            "This share link expires in 72 hours. For free permanent hosting and GPU upgrades, run `gradio deploy` from the terminal in the working directory to deploy to Hugging Face Spaces (https://huggingface.co/spaces)\n"
          ]
        },
        {
          "output_type": "display_data",
          "data": {
            "text/plain": [
              "<IPython.core.display.HTML object>"
            ],
            "text/html": [
              "<div><iframe src=\"https://5e09d3805322d618b8.gradio.live\" width=\"100%\" height=\"500\" allow=\"autoplay; camera; microphone; clipboard-read; clipboard-write;\" frameborder=\"0\" allowfullscreen></iframe></div>"
            ]
          },
          "metadata": {}
        },
        {
          "output_type": "stream",
          "name": "stdout",
          "text": [
            "\u001b[1m1/1\u001b[0m \u001b[32m━━━━━━━━━━━━━━━━━━━━\u001b[0m\u001b[37m\u001b[0m \u001b[1m0s\u001b[0m 34ms/step\n",
            "Keyboard interruption in main thread... closing server.\n",
            "Killing tunnel 127.0.0.1:7860 <> https://5e09d3805322d618b8.gradio.live\n"
          ]
        },
        {
          "output_type": "execute_result",
          "data": {
            "text/plain": []
          },
          "metadata": {},
          "execution_count": 25
        }
      ]
    },
    {
      "cell_type": "markdown",
      "source": [
        "We have come to an end of this project but don't stop here, try as many projects of the similar type to get a better understanding of the use cases.\n",
        "Solve the practice sheet of this project to test yourself.!!\n",
        "\n",
        "\n",
        "![](https://c.tenor.com/Irg9yU74Zo8AAAAM/woohoo-yeah.gif)\n",
        "\n",
        "Great job!! You have come to the end of this assignment. Treat yourself for this :))\n",
        "<br>\n",
        "# Do fill this [feedback form](https://forms.zohopublic.in/cloudyml/form/CloudyMLDeepLearningFeedbackForm/formperma/VCFbldnXAnbcgAIl0lWv2blgHdSldheO4RfktMdgK7s)\n",
        "<br>\n",
        "You may head on to the next project."
      ],
      "metadata": {
        "id": "FsNgr_h-s9pU"
      }
    }
  ]
}